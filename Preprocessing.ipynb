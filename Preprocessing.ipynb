{
  "nbformat": 4,
  "nbformat_minor": 0,
  "metadata": {
    "colab": {
      "provenance": []
    },
    "kernelspec": {
      "name": "python3",
      "display_name": "Python 3"
    },
    "language_info": {
      "name": "python"
    }
  },
  "cells": [
    {
      "cell_type": "code",
      "execution_count": null,
      "metadata": {
        "id": "cQ2T7E7t2onl"
      },
      "outputs": [],
      "source": [
        "import pandas as pd\n",
        "import numpy as np\n",
        "import warnings\n",
        "warnings.filterwarnings(action = 'ignore')\n",
        "warnings.filterwarnings('ignore')\n",
        "\n",
        "# 시각화를 위한 라이브러리 호출\n",
        "import matplotlib\n",
        "from matplotlib import font_manager, rc\n",
        "import matplotlib.font_manager as fm\n",
        "import matplotlib.pyplot as plt\n",
        "import seaborn as sns\n",
        "\n",
        "# 폰트 경로 지정\n",
        "# font_path = '/usr/share/fonts/truetype/nanum/NanumBarunGothic.ttf'\n",
        "\n",
        "\n",
        "\n",
        "# 폰트 적용\n",
        "# plt.rc('font', family=font_prop.get_name())\n",
        "\n",
        "# 나눔바른고딕 폰트 경로 설정\n",
        "font_path = '/usr/share/fonts/truetype/nanum/NanumBarunGothic.ttf'\n",
        "# 폰트 속성 설정\n",
        "font_prop = fm.FontProperties(fname=font_path)\n",
        "# 폰트 설정\n",
        "plt.rcParams['font.family'] = 'NanumBarunGothic'\n",
        "plt.rcParams['axes.unicode_minus'] = False\n",
        "plt.rc('font', family='NanumBarunGothic')"
      ]
    },
    {
      "cell_type": "code",
      "execution_count": null,
      "metadata": {
        "colab": {
          "base_uri": "https://localhost:8080/"
        },
        "id": "810d9bce",
        "outputId": "383ce98c-9271-4004-e7ae-48e326347d86"
      },
      "outputs": [
        {
          "output_type": "stream",
          "name": "stdout",
          "text": [
            "Mounted at /content/drive\n"
          ]
        }
      ],
      "source": [
        "from google.colab import drive\n",
        "\n",
        "drive.mount('/content/drive')\n",
        "# 구글 클라우드 데이터 위치\n",
        "DATA_DIR = '/content/drive/My Drive/Colab Notebooks/기경데분'"
      ]
    },
    {
      "cell_type": "code",
      "execution_count": null,
      "metadata": {
        "id": "a1c3df44"
      },
      "outputs": [],
      "source": [
        "house_21 = pd.read_csv(f'{DATA_DIR}/서울특별시_전월세가_2021.txt', encoding = 'cp949', delimiter=\",\")\n",
        "house_22 = pd.read_csv(f'{DATA_DIR}/서울특별시_전월세가_2022.csv',encoding = 'cp949')"
      ]
    },
    {
      "cell_type": "code",
      "execution_count": null,
      "metadata": {
        "colab": {
          "base_uri": "https://localhost:8080/"
        },
        "id": "bfe1de70",
        "outputId": "2e23ab9d-0e50-4b61-e325-86e372d00c70"
      },
      "outputs": [
        {
          "output_type": "execute_result",
          "data": {
            "text/plain": [
              "(524675, 23)"
            ]
          },
          "metadata": {},
          "execution_count": 20
        }
      ],
      "source": [
        "house_21.shape"
      ]
    },
    {
      "cell_type": "code",
      "execution_count": null,
      "metadata": {
        "colab": {
          "base_uri": "https://localhost:8080/"
        },
        "id": "cce91032",
        "outputId": "2140c5b7-e6f3-4908-fb2c-85d723c755b9"
      },
      "outputs": [
        {
          "output_type": "execute_result",
          "data": {
            "text/plain": [
              "(560665, 23)"
            ]
          },
          "metadata": {},
          "execution_count": 21
        }
      ],
      "source": [
        "house_22.shape"
      ]
    },
    {
      "cell_type": "code",
      "execution_count": null,
      "metadata": {
        "id": "3a378275"
      },
      "outputs": [],
      "source": [
        "house_df = pd.concat([house_21, house_22])"
      ]
    },
    {
      "cell_type": "code",
      "source": [
        "house_df = house_df[house_df['전월세구분'] == '월세']\n",
        "house_df.reset_index(drop=True, inplace=True)\n",
        "house_df = house_df[['자치구명', '법정동코드', '지번구분코드', '본번', '부번', '층', '계약일',\n",
        "         '임대면적', '보증금(만원)', '임대료(만원)', '건축년도', '건물용도']]\n",
        ""
      ],
      "metadata": {
        "id": "S_R9IQyV22vl"
      },
      "execution_count": null,
      "outputs": []
    },
    {
      "cell_type": "code",
      "source": [
        "# 데이터프레임에서 결측치가 있는 행을 제거하기\n",
        "house_df.dropna(axis=0, inplace=True)"
      ],
      "metadata": {
        "id": "vXR0s9Vw3AyT"
      },
      "execution_count": null,
      "outputs": []
    },
    {
      "cell_type": "code",
      "source": [
        "def processing(df):\n",
        "    df['계약일'] = df['계약일'].astype('str')\n",
        "    df['연도'] = df['계약일'].str[:4]\n",
        "    df['월'] = df['계약일'].str[4:6]\n",
        "    df['일'] = df['계약일'].str[6:]\n",
        "    df['연도'] = df['연도'].astype('int')\n",
        "    df['월'] = df['월'].astype('int')\n",
        "    df['일'] = df['일'].astype('int')\n",
        "\n",
        "    df['지번구분코드'] = df['지번구분코드'].astype('int')\n",
        "    df['층'] = df['층'].astype('int')\n",
        "    df['본번'] = df['본번'].astype('int')\n",
        "    df['부번'] = df['부번'].astype('int')\n",
        "    df['건축년도'] = df['건축년도'].astype('int')\n",
        "\n",
        "    jachigu = pd.get_dummies(df['자치구명'], prefix = '자치구명')\n",
        "    df = pd.concat([df, jachigu], axis=1)\n",
        "\n",
        "    df['건물용도'] = df['건물용도'].replace('아파트', 4)\n",
        "    df['건물용도'] = df['건물용도'].replace('단독다가구', 3)\n",
        "    df['건물용도'] = df['건물용도'].replace('연립다세대', 2)\n",
        "    df['건물용도'] = df['건물용도'].replace('오피스텔', 1)\n",
        "\n",
        "    df = df.sort_values(by='계약일', ascending=True)\n",
        "    df.reset_index(drop=True, inplace=True)\n",
        "\n",
        "    # df.drop(['계약일'], axis = 1, inplace = True)\n",
        "    return df"
      ],
      "metadata": {
        "id": "jiCFfze_3PoE"
      },
      "execution_count": null,
      "outputs": []
    },
    {
      "cell_type": "code",
      "source": [
        "house_df = processing(house_df)"
      ],
      "metadata": {
        "id": "36cqL1qe3XkF"
      },
      "execution_count": null,
      "outputs": []
    },
    {
      "cell_type": "code",
      "source": [
        "house_df.info()"
      ],
      "metadata": {
        "colab": {
          "base_uri": "https://localhost:8080/"
        },
        "id": "d1r6-SeF3ZYC",
        "outputId": "0aee07f8-b7ad-415b-f6b0-e4f10366eec8"
      },
      "execution_count": null,
      "outputs": [
        {
          "output_type": "stream",
          "name": "stdout",
          "text": [
            "<class 'pandas.core.frame.DataFrame'>\n",
            "RangeIndex: 309611 entries, 0 to 309610\n",
            "Data columns (total 40 columns):\n",
            " #   Column     Non-Null Count   Dtype  \n",
            "---  ------     --------------   -----  \n",
            " 0   자치구명       309611 non-null  object \n",
            " 1   법정동코드      309611 non-null  int64  \n",
            " 2   지번구분코드     309611 non-null  int64  \n",
            " 3   본번         309611 non-null  int64  \n",
            " 4   부번         309611 non-null  int64  \n",
            " 5   층          309611 non-null  int64  \n",
            " 6   계약일        309611 non-null  object \n",
            " 7   임대면적       309611 non-null  float64\n",
            " 8   보증금(만원)    309611 non-null  int64  \n",
            " 9   임대료(만원)    309611 non-null  int64  \n",
            " 10  건축년도       309611 non-null  int64  \n",
            " 11  건물용도       309611 non-null  int64  \n",
            " 12  연도         309611 non-null  int64  \n",
            " 13  월          309611 non-null  int64  \n",
            " 14  일          309611 non-null  int64  \n",
            " 15  자치구명_강남구   309611 non-null  uint8  \n",
            " 16  자치구명_강동구   309611 non-null  uint8  \n",
            " 17  자치구명_강북구   309611 non-null  uint8  \n",
            " 18  자치구명_강서구   309611 non-null  uint8  \n",
            " 19  자치구명_관악구   309611 non-null  uint8  \n",
            " 20  자치구명_광진구   309611 non-null  uint8  \n",
            " 21  자치구명_구로구   309611 non-null  uint8  \n",
            " 22  자치구명_금천구   309611 non-null  uint8  \n",
            " 23  자치구명_노원구   309611 non-null  uint8  \n",
            " 24  자치구명_도봉구   309611 non-null  uint8  \n",
            " 25  자치구명_동대문구  309611 non-null  uint8  \n",
            " 26  자치구명_동작구   309611 non-null  uint8  \n",
            " 27  자치구명_마포구   309611 non-null  uint8  \n",
            " 28  자치구명_서대문구  309611 non-null  uint8  \n",
            " 29  자치구명_서초구   309611 non-null  uint8  \n",
            " 30  자치구명_성동구   309611 non-null  uint8  \n",
            " 31  자치구명_성북구   309611 non-null  uint8  \n",
            " 32  자치구명_송파구   309611 non-null  uint8  \n",
            " 33  자치구명_양천구   309611 non-null  uint8  \n",
            " 34  자치구명_영등포구  309611 non-null  uint8  \n",
            " 35  자치구명_용산구   309611 non-null  uint8  \n",
            " 36  자치구명_은평구   309611 non-null  uint8  \n",
            " 37  자치구명_종로구   309611 non-null  uint8  \n",
            " 38  자치구명_중구    309611 non-null  uint8  \n",
            " 39  자치구명_중랑구   309611 non-null  uint8  \n",
            "dtypes: float64(1), int64(12), object(2), uint8(25)\n",
            "memory usage: 42.8+ MB\n"
          ]
        }
      ]
    },
    {
      "cell_type": "code",
      "source": [
        "house_df.drop(['자치구명', '계약일'], axis=1, inplace=True)"
      ],
      "metadata": {
        "id": "eOjHH5II3b_A"
      },
      "execution_count": null,
      "outputs": []
    },
    {
      "cell_type": "code",
      "source": [
        "drop_index = house_df[house_df['건축년도'] < 1300].index\n",
        "house_df.drop(drop_index, axis=0, inplace=True)\n",
        "house_df.reset_index(drop=True, inplace=True)"
      ],
      "metadata": {
        "id": "jDbUJ9AS3iMC"
      },
      "execution_count": null,
      "outputs": []
    },
    {
      "cell_type": "code",
      "source": [
        "house_df.columns"
      ],
      "metadata": {
        "colab": {
          "base_uri": "https://localhost:8080/"
        },
        "id": "BPRZKbFf33GK",
        "outputId": "c0bac428-eee3-48bd-9c52-61fba8819bae"
      },
      "execution_count": null,
      "outputs": [
        {
          "output_type": "execute_result",
          "data": {
            "text/plain": [
              "Index(['법정동코드', '지번구분코드', '본번', '부번', '층', '계약일', '임대면적', '보증금(만원)', '임대료(만원)',\n",
              "       '건축년도', '건물용도', '연도', '월', '일', '자치구명_강남구', '자치구명_강동구', '자치구명_강북구',\n",
              "       '자치구명_강서구', '자치구명_관악구', '자치구명_광진구', '자치구명_구로구', '자치구명_금천구', '자치구명_노원구',\n",
              "       '자치구명_도봉구', '자치구명_동대문구', '자치구명_동작구', '자치구명_마포구', '자치구명_서대문구',\n",
              "       '자치구명_서초구', '자치구명_성동구', '자치구명_성북구', '자치구명_송파구', '자치구명_양천구', '자치구명_영등포구',\n",
              "       '자치구명_용산구', '자치구명_은평구', '자치구명_종로구', '자치구명_중구', '자치구명_중랑구'],\n",
              "      dtype='object')"
            ]
          },
          "metadata": {},
          "execution_count": 32
        }
      ]
    },
    {
      "cell_type": "code",
      "source": [
        "house_df.drop(['계약일'], axis=1, inplace=True)"
      ],
      "metadata": {
        "id": "aNTbf7-P4B48"
      },
      "execution_count": null,
      "outputs": []
    },
    {
      "cell_type": "code",
      "source": [
        "import scipy.stats as stats\n",
        "# print(stats.pearsonr(house_df['임대료(만원)'],house_df['법정동코드']))\n",
        "print(stats.pearsonr(house_df['임대료(만원)'],house_df['지번구분코드']))\n",
        "# print(stats.pearsonr(house_df['임대료(만원)'],house_df['본번']))\n",
        "# print(stats.pearsonr(house_df['임대료(만원)'],house_df['부번']))\n",
        "print(stats.pearsonr(house_df['임대료(만원)'],house_df['층']))\n",
        "print(stats.pearsonr(house_df['임대료(만원)'],house_df['임대면적']))\n",
        "print(stats.pearsonr(house_df['임대료(만원)'],house_df['보증금(만원)']))\n",
        "# print(stats.pearsonr(house_df['임대료(만원)'],house_df['건축년도']))\n",
        "print(stats.pearsonr(house_df['임대료(만원)'],house_df['건물용도']))\n",
        "# print(stats.pearsonr(house_df['임대료(만원)'],house_df['연도']))\n",
        "# print(stats.pearsonr(house_df['임대료(만원)'],house_df['월']))\n",
        "# print(stats.pearsonr(house_df['임대료(만원)'],house_df['일']))"
      ],
      "metadata": {
        "colab": {
          "base_uri": "https://localhost:8080/"
        },
        "id": "Mam1t9lh3v15",
        "outputId": "03f16825-1808-4976-f7df-766c1d8e374f"
      },
      "execution_count": null,
      "outputs": [
        {
          "output_type": "stream",
          "name": "stdout",
          "text": [
            "PearsonRResult(statistic=0.03129297536968827, pvalue=6.18995954961032e-68)\n",
            "PearsonRResult(statistic=0.0042889660910849885, pvalue=0.017009706790982328)\n",
            "PearsonRResult(statistic=0.009086051765470206, pvalue=4.2857141592657186e-07)\n",
            "PearsonRResult(statistic=-0.0254648484080837, pvalue=1.3739465227828598e-45)\n",
            "PearsonRResult(statistic=0.23223364649053885, pvalue=0.0)\n",
            "PearsonRResult(statistic=0.5066393161235805, pvalue=0.0)\n",
            "PearsonRResult(statistic=0.2054482361411571, pvalue=0.0)\n",
            "PearsonRResult(statistic=-0.03498019616315995, pvalue=1.980245002583744e-84)\n",
            "PearsonRResult(statistic=0.21004825804901217, pvalue=0.0)\n",
            "PearsonRResult(statistic=0.04172527262912108, pvalue=2.425016138603634e-119)\n",
            "PearsonRResult(statistic=0.013979173244490845, pvalue=7.325159157946233e-15)\n",
            "PearsonRResult(statistic=0.002681624944351826, pvalue=0.13566633565121097)\n"
          ]
        }
      ]
    },
    {
      "cell_type": "code",
      "source": [
        "df = house_df[['지번구분코드','층', '임대면적','보증금(만원)','건물용도', '자치구명_강남구', '자치구명_강동구', '자치구명_강북구',\n",
        "       '자치구명_강서구', '자치구명_관악구', '자치구명_광진구', '자치구명_구로구', '자치구명_금천구', '자치구명_노원구',\n",
        "       '자치구명_도봉구', '자치구명_동대문구', '자치구명_동작구', '자치구명_마포구', '자치구명_서대문구',\n",
        "       '자치구명_서초구', '자치구명_성동구', '자치구명_성북구', '자치구명_송파구', '자치구명_양천구', '자치구명_영등포구',\n",
        "       '자치구명_용산구', '자치구명_은평구', '자치구명_종로구', '자치구명_중구', '자치구명_중랑구', '임대료(만원)']]"
      ],
      "metadata": {
        "id": "5EqtkiP53wib"
      },
      "execution_count": null,
      "outputs": []
    },
    {
      "cell_type": "code",
      "source": [
        "df.describe()"
      ],
      "metadata": {
        "colab": {
          "base_uri": "https://localhost:8080/",
          "height": 411
        },
        "id": "zc-HOxAZ4Yfq",
        "outputId": "b3f897b0-db03-45b3-cfe5-823b071cdf14"
      },
      "execution_count": null,
      "outputs": [
        {
          "output_type": "execute_result",
          "data": {
            "text/plain": [
              "              지번구분코드              층           임대면적        보증금(만원)  \\\n",
              "count  309611.000000  309611.000000  309611.000000  309611.000000   \n",
              "mean        1.001625       7.603315      49.708394   14190.381065   \n",
              "std         0.053560       5.856612      30.003226   21916.252349   \n",
              "min         1.000000      -3.000000       3.400000       0.000000   \n",
              "25%         1.000000       3.000000      25.480000    1500.000000   \n",
              "50%         1.000000       6.000000      43.060000    5000.000000   \n",
              "75%         1.000000      11.000000      62.590000   18000.000000   \n",
              "max         3.000000      69.000000     317.360000  500000.000000   \n",
              "\n",
              "                건물용도       자치구명_강남구       자치구명_강동구       자치구명_강북구  \\\n",
              "count  309611.000000  309611.000000  309611.000000  309611.000000   \n",
              "mean        2.887394       0.082597       0.058347       0.013339   \n",
              "std         1.247613       0.275273       0.234400       0.114723   \n",
              "min         1.000000       0.000000       0.000000       0.000000   \n",
              "25%         2.000000       0.000000       0.000000       0.000000   \n",
              "50%         4.000000       0.000000       0.000000       0.000000   \n",
              "75%         4.000000       0.000000       0.000000       0.000000   \n",
              "max         4.000000       1.000000       1.000000       1.000000   \n",
              "\n",
              "            자치구명_강서구       자치구명_관악구  ...       자치구명_성북구       자치구명_송파구  \\\n",
              "count  309611.000000  309611.000000  ...  309611.000000  309611.000000   \n",
              "mean        0.072824       0.039065  ...       0.028168       0.115212   \n",
              "std         0.259847       0.193750  ...       0.165452       0.319279   \n",
              "min         0.000000       0.000000  ...       0.000000       0.000000   \n",
              "25%         0.000000       0.000000  ...       0.000000       0.000000   \n",
              "50%         0.000000       0.000000  ...       0.000000       0.000000   \n",
              "75%         0.000000       0.000000  ...       0.000000       0.000000   \n",
              "max         1.000000       1.000000  ...       1.000000       1.000000   \n",
              "\n",
              "            자치구명_양천구      자치구명_영등포구       자치구명_용산구       자치구명_은평구  \\\n",
              "count  309611.000000  309611.000000  309611.000000  309611.000000   \n",
              "mean        0.035444       0.040334       0.023772       0.038358   \n",
              "std         0.184901       0.196743       0.152338       0.192059   \n",
              "min         0.000000       0.000000       0.000000       0.000000   \n",
              "25%         0.000000       0.000000       0.000000       0.000000   \n",
              "50%         0.000000       0.000000       0.000000       0.000000   \n",
              "75%         0.000000       0.000000       0.000000       0.000000   \n",
              "max         1.000000       1.000000       1.000000       1.000000   \n",
              "\n",
              "            자치구명_종로구        자치구명_중구       자치구명_중랑구        임대료(만원)  \n",
              "count  309611.000000  309611.000000  309611.000000  309611.000000  \n",
              "mean        0.013152       0.015862       0.024360      76.470616  \n",
              "std         0.113926       0.124941       0.154163      82.635202  \n",
              "min         0.000000       0.000000       0.000000       0.000000  \n",
              "25%         0.000000       0.000000       0.000000      35.000000  \n",
              "50%         0.000000       0.000000       0.000000      58.000000  \n",
              "75%         0.000000       0.000000       0.000000      90.000000  \n",
              "max         1.000000       1.000000       1.000000    4000.000000  \n",
              "\n",
              "[8 rows x 31 columns]"
            ],
            "text/html": [
              "\n",
              "  <div id=\"df-fcbfb0ff-b50b-4472-85ff-e9fef3c8c241\">\n",
              "    <div class=\"colab-df-container\">\n",
              "      <div>\n",
              "<style scoped>\n",
              "    .dataframe tbody tr th:only-of-type {\n",
              "        vertical-align: middle;\n",
              "    }\n",
              "\n",
              "    .dataframe tbody tr th {\n",
              "        vertical-align: top;\n",
              "    }\n",
              "\n",
              "    .dataframe thead th {\n",
              "        text-align: right;\n",
              "    }\n",
              "</style>\n",
              "<table border=\"1\" class=\"dataframe\">\n",
              "  <thead>\n",
              "    <tr style=\"text-align: right;\">\n",
              "      <th></th>\n",
              "      <th>지번구분코드</th>\n",
              "      <th>층</th>\n",
              "      <th>임대면적</th>\n",
              "      <th>보증금(만원)</th>\n",
              "      <th>건물용도</th>\n",
              "      <th>자치구명_강남구</th>\n",
              "      <th>자치구명_강동구</th>\n",
              "      <th>자치구명_강북구</th>\n",
              "      <th>자치구명_강서구</th>\n",
              "      <th>자치구명_관악구</th>\n",
              "      <th>...</th>\n",
              "      <th>자치구명_성북구</th>\n",
              "      <th>자치구명_송파구</th>\n",
              "      <th>자치구명_양천구</th>\n",
              "      <th>자치구명_영등포구</th>\n",
              "      <th>자치구명_용산구</th>\n",
              "      <th>자치구명_은평구</th>\n",
              "      <th>자치구명_종로구</th>\n",
              "      <th>자치구명_중구</th>\n",
              "      <th>자치구명_중랑구</th>\n",
              "      <th>임대료(만원)</th>\n",
              "    </tr>\n",
              "  </thead>\n",
              "  <tbody>\n",
              "    <tr>\n",
              "      <th>count</th>\n",
              "      <td>309611.000000</td>\n",
              "      <td>309611.000000</td>\n",
              "      <td>309611.000000</td>\n",
              "      <td>309611.000000</td>\n",
              "      <td>309611.000000</td>\n",
              "      <td>309611.000000</td>\n",
              "      <td>309611.000000</td>\n",
              "      <td>309611.000000</td>\n",
              "      <td>309611.000000</td>\n",
              "      <td>309611.000000</td>\n",
              "      <td>...</td>\n",
              "      <td>309611.000000</td>\n",
              "      <td>309611.000000</td>\n",
              "      <td>309611.000000</td>\n",
              "      <td>309611.000000</td>\n",
              "      <td>309611.000000</td>\n",
              "      <td>309611.000000</td>\n",
              "      <td>309611.000000</td>\n",
              "      <td>309611.000000</td>\n",
              "      <td>309611.000000</td>\n",
              "      <td>309611.000000</td>\n",
              "    </tr>\n",
              "    <tr>\n",
              "      <th>mean</th>\n",
              "      <td>1.001625</td>\n",
              "      <td>7.603315</td>\n",
              "      <td>49.708394</td>\n",
              "      <td>14190.381065</td>\n",
              "      <td>2.887394</td>\n",
              "      <td>0.082597</td>\n",
              "      <td>0.058347</td>\n",
              "      <td>0.013339</td>\n",
              "      <td>0.072824</td>\n",
              "      <td>0.039065</td>\n",
              "      <td>...</td>\n",
              "      <td>0.028168</td>\n",
              "      <td>0.115212</td>\n",
              "      <td>0.035444</td>\n",
              "      <td>0.040334</td>\n",
              "      <td>0.023772</td>\n",
              "      <td>0.038358</td>\n",
              "      <td>0.013152</td>\n",
              "      <td>0.015862</td>\n",
              "      <td>0.024360</td>\n",
              "      <td>76.470616</td>\n",
              "    </tr>\n",
              "    <tr>\n",
              "      <th>std</th>\n",
              "      <td>0.053560</td>\n",
              "      <td>5.856612</td>\n",
              "      <td>30.003226</td>\n",
              "      <td>21916.252349</td>\n",
              "      <td>1.247613</td>\n",
              "      <td>0.275273</td>\n",
              "      <td>0.234400</td>\n",
              "      <td>0.114723</td>\n",
              "      <td>0.259847</td>\n",
              "      <td>0.193750</td>\n",
              "      <td>...</td>\n",
              "      <td>0.165452</td>\n",
              "      <td>0.319279</td>\n",
              "      <td>0.184901</td>\n",
              "      <td>0.196743</td>\n",
              "      <td>0.152338</td>\n",
              "      <td>0.192059</td>\n",
              "      <td>0.113926</td>\n",
              "      <td>0.124941</td>\n",
              "      <td>0.154163</td>\n",
              "      <td>82.635202</td>\n",
              "    </tr>\n",
              "    <tr>\n",
              "      <th>min</th>\n",
              "      <td>1.000000</td>\n",
              "      <td>-3.000000</td>\n",
              "      <td>3.400000</td>\n",
              "      <td>0.000000</td>\n",
              "      <td>1.000000</td>\n",
              "      <td>0.000000</td>\n",
              "      <td>0.000000</td>\n",
              "      <td>0.000000</td>\n",
              "      <td>0.000000</td>\n",
              "      <td>0.000000</td>\n",
              "      <td>...</td>\n",
              "      <td>0.000000</td>\n",
              "      <td>0.000000</td>\n",
              "      <td>0.000000</td>\n",
              "      <td>0.000000</td>\n",
              "      <td>0.000000</td>\n",
              "      <td>0.000000</td>\n",
              "      <td>0.000000</td>\n",
              "      <td>0.000000</td>\n",
              "      <td>0.000000</td>\n",
              "      <td>0.000000</td>\n",
              "    </tr>\n",
              "    <tr>\n",
              "      <th>25%</th>\n",
              "      <td>1.000000</td>\n",
              "      <td>3.000000</td>\n",
              "      <td>25.480000</td>\n",
              "      <td>1500.000000</td>\n",
              "      <td>2.000000</td>\n",
              "      <td>0.000000</td>\n",
              "      <td>0.000000</td>\n",
              "      <td>0.000000</td>\n",
              "      <td>0.000000</td>\n",
              "      <td>0.000000</td>\n",
              "      <td>...</td>\n",
              "      <td>0.000000</td>\n",
              "      <td>0.000000</td>\n",
              "      <td>0.000000</td>\n",
              "      <td>0.000000</td>\n",
              "      <td>0.000000</td>\n",
              "      <td>0.000000</td>\n",
              "      <td>0.000000</td>\n",
              "      <td>0.000000</td>\n",
              "      <td>0.000000</td>\n",
              "      <td>35.000000</td>\n",
              "    </tr>\n",
              "    <tr>\n",
              "      <th>50%</th>\n",
              "      <td>1.000000</td>\n",
              "      <td>6.000000</td>\n",
              "      <td>43.060000</td>\n",
              "      <td>5000.000000</td>\n",
              "      <td>4.000000</td>\n",
              "      <td>0.000000</td>\n",
              "      <td>0.000000</td>\n",
              "      <td>0.000000</td>\n",
              "      <td>0.000000</td>\n",
              "      <td>0.000000</td>\n",
              "      <td>...</td>\n",
              "      <td>0.000000</td>\n",
              "      <td>0.000000</td>\n",
              "      <td>0.000000</td>\n",
              "      <td>0.000000</td>\n",
              "      <td>0.000000</td>\n",
              "      <td>0.000000</td>\n",
              "      <td>0.000000</td>\n",
              "      <td>0.000000</td>\n",
              "      <td>0.000000</td>\n",
              "      <td>58.000000</td>\n",
              "    </tr>\n",
              "    <tr>\n",
              "      <th>75%</th>\n",
              "      <td>1.000000</td>\n",
              "      <td>11.000000</td>\n",
              "      <td>62.590000</td>\n",
              "      <td>18000.000000</td>\n",
              "      <td>4.000000</td>\n",
              "      <td>0.000000</td>\n",
              "      <td>0.000000</td>\n",
              "      <td>0.000000</td>\n",
              "      <td>0.000000</td>\n",
              "      <td>0.000000</td>\n",
              "      <td>...</td>\n",
              "      <td>0.000000</td>\n",
              "      <td>0.000000</td>\n",
              "      <td>0.000000</td>\n",
              "      <td>0.000000</td>\n",
              "      <td>0.000000</td>\n",
              "      <td>0.000000</td>\n",
              "      <td>0.000000</td>\n",
              "      <td>0.000000</td>\n",
              "      <td>0.000000</td>\n",
              "      <td>90.000000</td>\n",
              "    </tr>\n",
              "    <tr>\n",
              "      <th>max</th>\n",
              "      <td>3.000000</td>\n",
              "      <td>69.000000</td>\n",
              "      <td>317.360000</td>\n",
              "      <td>500000.000000</td>\n",
              "      <td>4.000000</td>\n",
              "      <td>1.000000</td>\n",
              "      <td>1.000000</td>\n",
              "      <td>1.000000</td>\n",
              "      <td>1.000000</td>\n",
              "      <td>1.000000</td>\n",
              "      <td>...</td>\n",
              "      <td>1.000000</td>\n",
              "      <td>1.000000</td>\n",
              "      <td>1.000000</td>\n",
              "      <td>1.000000</td>\n",
              "      <td>1.000000</td>\n",
              "      <td>1.000000</td>\n",
              "      <td>1.000000</td>\n",
              "      <td>1.000000</td>\n",
              "      <td>1.000000</td>\n",
              "      <td>4000.000000</td>\n",
              "    </tr>\n",
              "  </tbody>\n",
              "</table>\n",
              "<p>8 rows × 31 columns</p>\n",
              "</div>\n",
              "      <button class=\"colab-df-convert\" onclick=\"convertToInteractive('df-fcbfb0ff-b50b-4472-85ff-e9fef3c8c241')\"\n",
              "              title=\"Convert this dataframe to an interactive table.\"\n",
              "              style=\"display:none;\">\n",
              "        \n",
              "  <svg xmlns=\"http://www.w3.org/2000/svg\" height=\"24px\"viewBox=\"0 0 24 24\"\n",
              "       width=\"24px\">\n",
              "    <path d=\"M0 0h24v24H0V0z\" fill=\"none\"/>\n",
              "    <path d=\"M18.56 5.44l.94 2.06.94-2.06 2.06-.94-2.06-.94-.94-2.06-.94 2.06-2.06.94zm-11 1L8.5 8.5l.94-2.06 2.06-.94-2.06-.94L8.5 2.5l-.94 2.06-2.06.94zm10 10l.94 2.06.94-2.06 2.06-.94-2.06-.94-.94-2.06-.94 2.06-2.06.94z\"/><path d=\"M17.41 7.96l-1.37-1.37c-.4-.4-.92-.59-1.43-.59-.52 0-1.04.2-1.43.59L10.3 9.45l-7.72 7.72c-.78.78-.78 2.05 0 2.83L4 21.41c.39.39.9.59 1.41.59.51 0 1.02-.2 1.41-.59l7.78-7.78 2.81-2.81c.8-.78.8-2.07 0-2.86zM5.41 20L4 18.59l7.72-7.72 1.47 1.35L5.41 20z\"/>\n",
              "  </svg>\n",
              "      </button>\n",
              "      \n",
              "  <style>\n",
              "    .colab-df-container {\n",
              "      display:flex;\n",
              "      flex-wrap:wrap;\n",
              "      gap: 12px;\n",
              "    }\n",
              "\n",
              "    .colab-df-convert {\n",
              "      background-color: #E8F0FE;\n",
              "      border: none;\n",
              "      border-radius: 50%;\n",
              "      cursor: pointer;\n",
              "      display: none;\n",
              "      fill: #1967D2;\n",
              "      height: 32px;\n",
              "      padding: 0 0 0 0;\n",
              "      width: 32px;\n",
              "    }\n",
              "\n",
              "    .colab-df-convert:hover {\n",
              "      background-color: #E2EBFA;\n",
              "      box-shadow: 0px 1px 2px rgba(60, 64, 67, 0.3), 0px 1px 3px 1px rgba(60, 64, 67, 0.15);\n",
              "      fill: #174EA6;\n",
              "    }\n",
              "\n",
              "    [theme=dark] .colab-df-convert {\n",
              "      background-color: #3B4455;\n",
              "      fill: #D2E3FC;\n",
              "    }\n",
              "\n",
              "    [theme=dark] .colab-df-convert:hover {\n",
              "      background-color: #434B5C;\n",
              "      box-shadow: 0px 1px 3px 1px rgba(0, 0, 0, 0.15);\n",
              "      filter: drop-shadow(0px 1px 2px rgba(0, 0, 0, 0.3));\n",
              "      fill: #FFFFFF;\n",
              "    }\n",
              "  </style>\n",
              "\n",
              "      <script>\n",
              "        const buttonEl =\n",
              "          document.querySelector('#df-fcbfb0ff-b50b-4472-85ff-e9fef3c8c241 button.colab-df-convert');\n",
              "        buttonEl.style.display =\n",
              "          google.colab.kernel.accessAllowed ? 'block' : 'none';\n",
              "\n",
              "        async function convertToInteractive(key) {\n",
              "          const element = document.querySelector('#df-fcbfb0ff-b50b-4472-85ff-e9fef3c8c241');\n",
              "          const dataTable =\n",
              "            await google.colab.kernel.invokeFunction('convertToInteractive',\n",
              "                                                     [key], {});\n",
              "          if (!dataTable) return;\n",
              "\n",
              "          const docLinkHtml = 'Like what you see? Visit the ' +\n",
              "            '<a target=\"_blank\" href=https://colab.research.google.com/notebooks/data_table.ipynb>data table notebook</a>'\n",
              "            + ' to learn more about interactive tables.';\n",
              "          element.innerHTML = '';\n",
              "          dataTable['output_type'] = 'display_data';\n",
              "          await google.colab.output.renderOutput(dataTable, element);\n",
              "          const docLink = document.createElement('div');\n",
              "          docLink.innerHTML = docLinkHtml;\n",
              "          element.appendChild(docLink);\n",
              "        }\n",
              "      </script>\n",
              "    </div>\n",
              "  </div>\n",
              "  "
            ]
          },
          "metadata": {},
          "execution_count": 39
        }
      ]
    },
    {
      "cell_type": "code",
      "source": [
        "df['교차항_임대면적X보증금'] = df['임대면적'] * df['보증금(만원)']"
      ],
      "metadata": {
        "id": "NVu95DAN4bdS"
      },
      "execution_count": null,
      "outputs": []
    },
    {
      "cell_type": "code",
      "source": [
        "df.columns"
      ],
      "metadata": {
        "colab": {
          "base_uri": "https://localhost:8080/"
        },
        "id": "b7P2pkzT4j9Y",
        "outputId": "027fb7e2-2bb9-46fa-a9aa-1953667cdb58"
      },
      "execution_count": null,
      "outputs": [
        {
          "output_type": "execute_result",
          "data": {
            "text/plain": [
              "Index(['지번구분코드', '층', '임대면적', '보증금(만원)', '건물용도', '자치구명_강남구', '자치구명_강동구',\n",
              "       '자치구명_강북구', '자치구명_강서구', '자치구명_관악구', '자치구명_광진구', '자치구명_구로구', '자치구명_금천구',\n",
              "       '자치구명_노원구', '자치구명_도봉구', '자치구명_동대문구', '자치구명_동작구', '자치구명_마포구',\n",
              "       '자치구명_서대문구', '자치구명_서초구', '자치구명_성동구', '자치구명_성북구', '자치구명_송파구', '자치구명_양천구',\n",
              "       '자치구명_영등포구', '자치구명_용산구', '자치구명_은평구', '자치구명_종로구', '자치구명_중구', '자치구명_중랑구',\n",
              "       '임대료(만원)', '교차항_임대면적X보증금'],\n",
              "      dtype='object')"
            ]
          },
          "metadata": {},
          "execution_count": 41
        }
      ]
    },
    {
      "cell_type": "code",
      "source": [
        "x = df[['지번구분코드', '층', '임대면적', '보증금(만원)', '건물용도', '자치구명_강남구', '자치구명_강동구',\n",
        "       '자치구명_강북구', '자치구명_강서구', '자치구명_관악구', '자치구명_광진구', '자치구명_구로구', '자치구명_금천구',\n",
        "       '자치구명_노원구', '자치구명_도봉구', '자치구명_동대문구', '자치구명_동작구', '자치구명_마포구',\n",
        "       '자치구명_서대문구', '자치구명_서초구', '자치구명_성동구', '자치구명_성북구', '자치구명_송파구', '자치구명_양천구',\n",
        "       '자치구명_영등포구', '자치구명_용산구', '자치구명_은평구', '자치구명_종로구', '자치구명_중구', '자치구명_중랑구','교차항_임대면적X보증금']]\n",
        "y = df['임대료(만원)']"
      ],
      "metadata": {
        "id": "HZVrW2nagx8w"
      },
      "execution_count": null,
      "outputs": []
    },
    {
      "cell_type": "code",
      "source": [
        "from sklearn.model_selection import train_test_split\n",
        "\n",
        "# 독립 변수와 종속 변수를 나누기 위한 train-test split\n",
        "x_train, x_test, y_train, y_test = train_test_split(x, y, test_size=0.2, random_state=42)\n",
        "\n",
        "# train-test split 결과 확인\n",
        "print(\"학습 데이터 (x_train) 크기:\", x_train.shape)\n",
        "print(\"테스트 데이터 (x_test) 크기:\", x_test.shape)\n",
        "print(\"학습 데이터 (y_train) 크기:\", y_train.shape)\n",
        "print(\"테스트 데이터 (y_test) 크기:\", y_test.shape)"
      ],
      "metadata": {
        "colab": {
          "base_uri": "https://localhost:8080/"
        },
        "id": "HxrF_l-pQXJr",
        "outputId": "6bfb0714-979c-4ab7-961c-27d50d4f6f08"
      },
      "execution_count": null,
      "outputs": [
        {
          "output_type": "stream",
          "name": "stdout",
          "text": [
            "학습 데이터 (x_train) 크기: (247688, 31)\n",
            "테스트 데이터 (x_test) 크기: (61923, 31)\n",
            "학습 데이터 (y_train) 크기: (247688,)\n",
            "테스트 데이터 (y_test) 크기: (61923,)\n"
          ]
        }
      ]
    },
    {
      "cell_type": "code",
      "source": [
        "train_reg = x_train[['지번구분코드', '층', '임대면적', '보증금(만원)', '건물용도', '자치구명_강남구', '자치구명_강동구',\n",
        "       '자치구명_강북구', '자치구명_강서구', '자치구명_관악구', '자치구명_광진구', '자치구명_구로구', '자치구명_금천구',\n",
        "       '자치구명_노원구', '자치구명_도봉구', '자치구명_동대문구', '자치구명_동작구', '자치구명_마포구',\n",
        "       '자치구명_서대문구', '자치구명_서초구', '자치구명_성동구', '자치구명_성북구', '자치구명_송파구', '자치구명_양천구',\n",
        "       '자치구명_영등포구', '자치구명_용산구', '자치구명_은평구', '자치구명_종로구', '자치구명_중구', '자치구명_중랑구','교차항_임대면적X보증금']]\n",
        "test_reg = x_test[['지번구분코드', '층', '임대면적', '보증금(만원)', '건물용도', '자치구명_강남구', '자치구명_강동구',\n",
        "       '자치구명_강북구', '자치구명_강서구', '자치구명_관악구', '자치구명_광진구', '자치구명_구로구', '자치구명_금천구',\n",
        "       '자치구명_노원구', '자치구명_도봉구', '자치구명_동대문구', '자치구명_동작구', '자치구명_마포구',\n",
        "       '자치구명_서대문구', '자치구명_서초구', '자치구명_성동구', '자치구명_성북구', '자치구명_송파구', '자치구명_양천구',\n",
        "       '자치구명_영등포구', '자치구명_용산구', '자치구명_은평구', '자치구명_종로구', '자치구명_중구', '자치구명_중랑구','교차항_임대면적X보증금']]"
      ],
      "metadata": {
        "id": "Ni0yyqxRRMsI"
      },
      "execution_count": null,
      "outputs": []
    },
    {
      "cell_type": "code",
      "source": [
        "from sklearn.preprocessing import StandardScaler\n",
        "\n",
        "scaler = StandardScaler()\n",
        "scaler.fit(train_reg)\n",
        "train_scaled = scaler.transform(train_reg)\n",
        "train_df_scaled = pd.DataFrame(data = train_scaled, columns = train_reg.columns)\n",
        "test_scaled = scaler.transform(test_reg)\n",
        "test_df_scaled = pd.DataFrame(data = test_scaled, columns = test_reg.columns)"
      ],
      "metadata": {
        "id": "U0PLQwhUiCop"
      },
      "execution_count": null,
      "outputs": []
    },
    {
      "cell_type": "code",
      "source": [
        "y_train = pd.DataFrame(y_train)\n",
        "y_test = pd.DataFrame(y_test)"
      ],
      "metadata": {
        "id": "pjTpufgglSu1"
      },
      "execution_count": null,
      "outputs": []
    },
    {
      "cell_type": "code",
      "source": [
        "x_train.reset_index(drop=True, inplace=True)\n",
        "x_test.reset_index(drop=True, inplace=True)\n",
        "y_train.reset_index(drop=True, inplace=True)\n",
        "y_test.reset_index(drop=True, inplace=True)"
      ],
      "metadata": {
        "id": "xrz2IPjB5CZp"
      },
      "execution_count": null,
      "outputs": []
    },
    {
      "cell_type": "code",
      "source": [
        "train = train_df_scaled\n",
        "test = test_df_scaled"
      ],
      "metadata": {
        "id": "b7Y0z-T15TZn"
      },
      "execution_count": null,
      "outputs": []
    },
    {
      "cell_type": "code",
      "source": [
        "x_train_강남구 = train[['지번구분코드', '층', '임대면적', '보증금(만원)', '건물용도', '자치구명_강동구',\n",
        "       '자치구명_강북구', '자치구명_강서구', '자치구명_관악구', '자치구명_광진구', '자치구명_구로구', '자치구명_금천구',\n",
        "       '자치구명_노원구', '자치구명_도봉구', '자치구명_동대문구', '자치구명_동작구', '자치구명_마포구',\n",
        "       '자치구명_서대문구', '자치구명_서초구', '자치구명_성동구', '자치구명_성북구', '자치구명_송파구', '자치구명_양천구',\n",
        "       '자치구명_영등포구', '자치구명_용산구', '자치구명_은평구', '자치구명_종로구', '자치구명_중구', '자치구명_중랑구','교차항_임대면적X보증금']]\n",
        "y_train_강남구 = y_train\n",
        "\n",
        "x_test_강남구 = test[['지번구분코드', '층', '임대면적', '보증금(만원)', '건물용도', '자치구명_강동구',\n",
        "       '자치구명_강북구', '자치구명_강서구', '자치구명_관악구', '자치구명_광진구', '자치구명_구로구', '자치구명_금천구',\n",
        "       '자치구명_노원구', '자치구명_도봉구', '자치구명_동대문구', '자치구명_동작구', '자치구명_마포구',\n",
        "       '자치구명_서대문구', '자치구명_서초구', '자치구명_성동구', '자치구명_성북구', '자치구명_송파구', '자치구명_양천구',\n",
        "       '자치구명_영등포구', '자치구명_용산구', '자치구명_은평구', '자치구명_종로구', '자치구명_중구', '자치구명_중랑구','교차항_임대면적X보증금']]\n",
        "y_test_강남구 = y_test"
      ],
      "metadata": {
        "id": "jKJPTZ8X5Fxw"
      },
      "execution_count": null,
      "outputs": []
    }
  ]
}